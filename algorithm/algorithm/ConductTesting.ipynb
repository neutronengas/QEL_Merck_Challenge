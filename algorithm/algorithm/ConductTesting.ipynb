{
 "cells": [
  {
   "cell_type": "code",
   "execution_count": 1,
   "metadata": {},
   "outputs": [],
   "source": [
    "from ClassicalSolver import lazy_greedy, dynamic_programming\n",
    "from QAOASolver import *\n",
    "from QAOASolver import GridSearcher\n",
    "from InstanceGenerator import create_instance\n",
    "import pandas as pd"
   ]
  },
  {
   "cell_type": "code",
   "execution_count": 2,
   "metadata": {},
   "outputs": [],
   "source": [
    "INSTANCE_TYPES = [\"uncor\", \"strong_cor\", \"subset\"]\n",
    "INIT_TYPES = [\"smoothened\", \"nonbiased\"]\n",
    "COUPLING_TYPES = [\"Maximally anti-correlated\", \"Half anti-correlated\", \"Uncorrelated\"]\n",
    "\n",
    "R = 1000"
   ]
  },
  {
   "cell_type": "code",
   "execution_count": 3,
   "metadata": {},
   "outputs": [],
   "source": [
    "def conduct_testing():\n",
    "    result_dict = {\"Qubit number\": [], \"Instance type\": [], \"Initialization type\": [], \"Coupling type\": [], \"Quantum Solution\": [], \"Classical Solution\": []}\n",
    "    total_length = 3 * len(INIT_TYPES) * len(INSTANCE_TYPES) * len(COUPLING_TYPES) * 3\n",
    "    i = 0\n",
    "    print(\"Amount of runs: \" + str(total_length))\n",
    "    for N in (10, 20, 30):\n",
    "        for instance_type in INSTANCE_TYPES:\n",
    "            for init_type in INIT_TYPES:\n",
    "                for coupling_type in COUPLING_TYPES:\n",
    "                    print(\"Progress: {}%\".format(str(i / total_length)))\n",
    "                    i += 1\n",
    "                    profits, weights, max_weights = create_instance(instance_type, N, R)\n",
    "                    items = [Item(i, profits[i], weights[i]) for i in range(len(profits))]\n",
    "                    theta_factor = 1 if coupling_type == \"Maximally anti_correlated\" else 0.5 if coupling_type == \"Half anti-correlated\" else 0\n",
    "                    thetas = [-1.0 * theta_factor for _ in profits]\n",
    "                    for max_weight in max_weights:\n",
    "                        _, quantum_sol = GridSearcher(items, max_weight, thetas, 10, 10, 1, \"Copula\", init_type).get_max_result()\n",
    "                        classical_sol = dynamic_programming(items, max_weight)\n",
    "                    result_dict[\"Qubit number\"].append(N)\n",
    "                    result_dict[\"Instance type\"].append(instance_type)\n",
    "                    result_dict[\"Initialization type\"].append(init_type)\n",
    "                    result_dict[\"Coupling type\"].append(coupling_type)\n",
    "                    result_dict[\"Quantum Solution\"].append(quantum_sol)\n",
    "                    result_dict[\"Classical Solution\"].append(classical_sol)\n",
    "    pd.DataFrame(result_dict).to_csv(\"../testing/Testresults.csv\")\n",
    "    pd.DataFrame(result_dict).to_excel(\"../testing/Testresults.xlsx\")\n",
    "\n"
   ]
  },
  {
   "cell_type": "code",
   "execution_count": 4,
   "metadata": {},
   "outputs": [
    {
     "name": "stdout",
     "output_type": "stream",
     "text": [
      "Amount of runs: 162\n",
      "Progress: 0.0%\n",
      "Progress: 0.006172839506172839%\n",
      "Progress: 0.012345679012345678%\n",
      "Progress: 0.018518518518518517%\n",
      "Progress: 0.024691358024691357%\n",
      "Progress: 0.030864197530864196%\n",
      "Progress: 0.037037037037037035%\n",
      "Progress: 0.043209876543209874%\n",
      "Progress: 0.04938271604938271%\n",
      "Progress: 0.05555555555555555%\n",
      "Progress: 0.06172839506172839%\n",
      "Progress: 0.06790123456790123%\n",
      "Progress: 0.07407407407407407%\n",
      "Progress: 0.08024691358024691%\n",
      "Progress: 0.08641975308641975%\n",
      "Progress: 0.09259259259259259%\n",
      "Progress: 0.09876543209876543%\n",
      "Progress: 0.10493827160493827%\n",
      "Progress: 0.1111111111111111%\n",
      "Progress: 0.11728395061728394%\n",
      "Progress: 0.12345679012345678%\n",
      "Progress: 0.12962962962962962%\n",
      "Progress: 0.13580246913580246%\n",
      "Progress: 0.1419753086419753%\n",
      "Progress: 0.14814814814814814%\n",
      "Progress: 0.15432098765432098%\n",
      "Progress: 0.16049382716049382%\n",
      "Progress: 0.16666666666666666%\n",
      "Progress: 0.1728395061728395%\n",
      "Progress: 0.17901234567901234%\n",
      "Progress: 0.18518518518518517%\n",
      "Progress: 0.19135802469135801%\n",
      "Progress: 0.19753086419753085%\n",
      "Progress: 0.2037037037037037%\n",
      "Progress: 0.20987654320987653%\n",
      "Progress: 0.21604938271604937%\n",
      "Progress: 0.2222222222222222%\n",
      "Progress: 0.22839506172839505%\n",
      "Progress: 0.2345679012345679%\n",
      "Progress: 0.24074074074074073%\n",
      "Progress: 0.24691358024691357%\n",
      "Progress: 0.25308641975308643%\n",
      "Progress: 0.25925925925925924%\n",
      "Progress: 0.2654320987654321%\n",
      "Progress: 0.2716049382716049%\n",
      "Progress: 0.2777777777777778%\n",
      "Progress: 0.2839506172839506%\n",
      "Progress: 0.29012345679012347%\n",
      "Progress: 0.2962962962962963%\n",
      "Progress: 0.30246913580246915%\n",
      "Progress: 0.30864197530864196%\n",
      "Progress: 0.3148148148148148%\n",
      "Progress: 0.32098765432098764%\n",
      "Progress: 0.3271604938271605%\n"
     ]
    }
   ],
   "source": [
    "conduct_testing()"
   ]
  },
  {
   "cell_type": "code",
   "execution_count": null,
   "metadata": {},
   "outputs": [],
   "source": []
  }
 ],
 "metadata": {
  "interpreter": {
   "hash": "3199fd9fa0d70b4ea7da8f2372106bdfd9ce1ab2bbec4f2f5e58969a21511f0a"
  },
  "kernelspec": {
   "display_name": "Python 3.9.7 ('ml_env')",
   "language": "python",
   "name": "python3"
  },
  "language_info": {
   "codemirror_mode": {
    "name": "ipython",
    "version": 3
   },
   "file_extension": ".py",
   "mimetype": "text/x-python",
   "name": "python",
   "nbconvert_exporter": "python",
   "pygments_lexer": "ipython3",
   "version": "3.9.7"
  },
  "orig_nbformat": 4
 },
 "nbformat": 4,
 "nbformat_minor": 2
}
